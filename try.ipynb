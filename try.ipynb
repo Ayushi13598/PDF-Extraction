{
 "cells": [
  {
   "cell_type": "code",
   "execution_count": 2,
   "metadata": {},
   "outputs": [
    {
     "name": "stdout",
     "output_type": "stream",
     "text": [
      "b'Given Name Text Box': b'Dhruv'\n",
      "b'Family Name Text Box': b'Jain'\n",
      "b'Address 1 Text Box': b'Khatauli'\n",
      "b'House nr Text Box': b'\\xfe\\xff'\n",
      "b'Address 2 Text Box': b'\\xfe\\xff'\n",
      "b'Postcode Text Box': b'251201'\n",
      "b'City Text Box': b'Muzaffarnagar'\n",
      "b'Country Combo Box': b'\\xfe\\xff\\x00S\\x00w\\x00e\\x00d\\x00e\\x00n'\n",
      "b'Gender List Box': b'\\xfe\\xff\\x00M\\x00a\\x00n'\n",
      "b'Height Formatted Field': b'\\xfe\\xff\\x001\\x005\\x000'\n",
      "b'Driving License Check Box': /'Yes'\n",
      "b'Language 1 Check Box': /'Yes'\n",
      "b'Language 2 Check Box': /'Yes'\n",
      "b'Language 3 Check Box': /'Off'\n",
      "b'Language 4 Check Box': /'Off'\n",
      "b'Language 5 Check Box': /'Off'\n",
      "b'Favourite Colour List Box': b'\\xfe\\xff\\x00R\\x00e\\x00d'\n"
     ]
    }
   ],
   "source": [
    "import sys\n",
    "from pdfminer.pdfparser import PDFParser\n",
    "from pdfminer.pdfdocument import PDFDocument\n",
    "from pdfminer.pdftypes import resolve1\n",
    "\n",
    "filename = sys.argv[1]\n",
    "fp = open('PdfFormExampleFilled.pdf', 'rb')\n",
    "\n",
    "parser = PDFParser(fp)\n",
    "doc = PDFDocument(parser)\n",
    "fields = resolve1(doc.catalog['AcroForm'])['Fields']\n",
    "for i in fields:\n",
    "    field = resolve1(i)\n",
    "    name, value = field.get('T'), field.get('V')\n",
    "    print ('{0}: {1}'.format(name, value))"
   ]
  },
  {
   "cell_type": "code",
   "execution_count": null,
   "metadata": {},
   "outputs": [],
   "source": []
  }
 ],
 "metadata": {
  "kernelspec": {
   "display_name": "Python 3",
   "language": "python",
   "name": "python3"
  },
  "language_info": {
   "codemirror_mode": {
    "name": "ipython",
    "version": 3
   },
   "file_extension": ".py",
   "mimetype": "text/x-python",
   "name": "python",
   "nbconvert_exporter": "python",
   "pygments_lexer": "ipython3",
   "version": "3.6.8"
  }
 },
 "nbformat": 4,
 "nbformat_minor": 2
}
