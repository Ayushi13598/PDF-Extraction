{
 "cells": [
  {
   "cell_type": "code",
   "execution_count": 36,
   "metadata": {
    "scrolled": true
   },
   "outputs": [],
   "source": [
    "import sys\n",
    "from pdfminer.pdfparser import PDFParser\n",
    "from pdfminer.pdfdocument import PDFDocument\n",
    "from pdfminer.pdftypes import resolve1\n",
    "import json\n",
    "\n",
    "def pdftotext(filepath):\n",
    "    filename = sys.argv[1]\n",
    "    fp = open(filepath, 'rb')\n",
    "    a = []\n",
    "    parser = PDFParser(fp)\n",
    "    doc = PDFDocument(parser)\n",
    "    fields = resolve1(doc.catalog['AcroForm'])['Fields']\n",
    "    for i in fields:\n",
    "        field = resolve1(i)\n",
    "        name, value = field.get('T'), field.get('V')\n",
    "        x = '{0}: {1}'.format(name, value)\n",
    "        x = x.replace(\"b\",\"\")\n",
    "        x = x.replace('Text Box','')\n",
    "        x = x.replace('Check Box','')\n",
    "        x = x.replace('xff','')\n",
    "        x = x.replace('xfe','')\n",
    "        x = x.replace('x00','')\n",
    "        x = x.replace('\\\\','')\n",
    "        x = x.replace('List Box','')\n",
    "        x = x.replace('Como Box','')\n",
    "        x = x.replace('Formatted Field','')\n",
    "        x = x.replace('/','')\n",
    "        x = x.replace('Language 1','Deutsch')\n",
    "        x = x.replace('Language 2','English')\n",
    "        x = x.replace('Language 3','Français')\n",
    "        x = x.replace('Language 4','Esperanto')\n",
    "        x = x.replace('Language 5','Latin')\n",
    "        a.append(x)\n",
    "    output = json.dumps(a)\n",
    "    return output"
   ]
  },
  {
   "cell_type": "code",
   "execution_count": 37,
   "metadata": {},
   "outputs": [
    {
     "data": {
      "text/plain": [
       "'[\"\\'Given Name \\': \\'Dhruv\\'\", \"\\'Family Name \\': \\'Jain\\'\", \"\\'Address 1 \\': \\'Khatauli\\'\", \"\\'House nr \\': \\'\\'\", \"\\'Address 2 \\': \\'\\'\", \"\\'Postcode \\': \\'251201\\'\", \"\\'City \\': \\'Muzaffarnagar\\'\", \"\\'Country \\': \\'Sweden\\'\", \"\\'Gender \\': \\'Man\\'\", \"\\'Height \\': \\'150\\'\", \"\\'Driving License \\': \\'Yes\\'\", \"\\'Deutsch \\': \\'Yes\\'\", \"\\'English \\': \\'Yes\\'\", \"\\'Fran\\\\u00e7ais \\': \\'Off\\'\", \"\\'Esperanto \\': \\'Off\\'\", \"\\'Latin \\': \\'Off\\'\", \"\\'Favourite Colour \\': \\'Red\\'\"]'"
      ]
     },
     "execution_count": 37,
     "metadata": {},
     "output_type": "execute_result"
    }
   ],
   "source": [
    "pdftotext('PdfFormExampleFilled.pdf')"
   ]
  },
  {
   "cell_type": "code",
   "execution_count": null,
   "metadata": {},
   "outputs": [],
   "source": []
  }
 ],
 "metadata": {
  "kernelspec": {
   "display_name": "Python 3",
   "language": "python",
   "name": "python3"
  },
  "language_info": {
   "codemirror_mode": {
    "name": "ipython",
    "version": 3
   },
   "file_extension": ".py",
   "mimetype": "text/x-python",
   "name": "python",
   "nbconvert_exporter": "python",
   "pygments_lexer": "ipython3",
   "version": "3.6.8"
  }
 },
 "nbformat": 4,
 "nbformat_minor": 2
}
