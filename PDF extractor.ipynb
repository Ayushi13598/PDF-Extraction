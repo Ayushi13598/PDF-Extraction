{
 "cells": [
  {
   "cell_type": "code",
   "execution_count": 13,
   "metadata": {},
   "outputs": [
    {
     "name": "stdout",
     "output_type": "stream",
     "text": [
      "Ayushi Agarwal“In the end, it all comes down to 0 and 1”To be associated with a company that provides careerdevelopment opportunities and to contribute in its progressthrough my knowledge and skills.Phone:9971517929Email:ayushi.agarwal@bennett.edu.inEXPERIENCEUmeedVolunteerAPR 2018- CURRENTOrganised and participated in various events of Umeed(NGO) to promots primaryeducation among underprivileged kids. Georgia Institute Of Technology, AtlantaVisiting Research ScholarJUN 2019-JUL 2019Identiﬁed a DNN algoirthm to do character recognition so that it can read the roomnumbers. Then the code was run on Raspberry pi so that the Roomba(iRobot) can detectwhile moving.Chegg Inc.Subject Matter ExpertMAR 2019-JUL 2019Answered academic questions asked by students on their Question & Answer boardrelated to Computer ScienceVOITH Digital SolutionsProject InternJUN 2018-JUL 2018Worked on IoT based sensor detection using implementation of Artiﬁcial Intelligence andburnt the code on Arduino.EDUCATIONAmity International School,DelhiBennett University,Greater NoidaComputer Science EngineeringSKILLSSoftware: Python, Java, Android Studio, R, SQL, Artiﬁcial Intelligence and Deep learning,RPAInterpersonal: Collaborative team leader, excellent communication skills, organized anddetail oriented, dynamic speaker, optimistic attitude, empathetic and compassionate.Created using Resumonk - Online Resume Builder10th & 12th\f",
      "PROJECTSOnline Polling SystemApp creation on Online Polling System using Java, Android Studio and SQL that could takevotes on any issue. The user was linked with his Aadhar ID of whose details were stored ina database made on SQLDiabetes Prediction Predicts if the user has diabetes or not on the basis of the taken inputEmotion RecognitionDetects the emotion of the person given an image as the inputFace DetectionFace detection for security purposeHeart disease prediction using IoT andArtiﬁcial IntelligenceACTIVE A wearable iot device was made with which heard disease prediction could be done.CERTIFICATIONSMachine Learning(Coding Blocks)Programming with Java (Chalkstreet)Python Programming Bible(UDEMY)Data Science: Deep Learning in Python(UDEMYI)Artiﬁcial Intelligence: Reinforcement Learning in Python (UDEMY)Machine Learning,Data Science and Deep Learning with Python(UDEMY)Level 1- Foundation Training(Ui Path)Created using Resumonk - Online Resume Builder\f",
      "\n"
     ]
    }
   ],
   "source": [
    "import io\n",
    "from pdfminer.converter import TextConverter\n",
    "from pdfminer.pdfinterp import PDFPageInterpreter\n",
    "from pdfminer.pdfinterp import PDFResourceManager\n",
    "from pdfminer.pdfpage import PDFPage\n",
    "def extract_text_from_pdf(pdf_path):\n",
    "    resource_manager = PDFResourceManager()\n",
    "    fake_file_handle = io.StringIO()\n",
    "    converter = TextConverter(resource_manager, fake_file_handle)\n",
    "    page_interpreter = PDFPageInterpreter(resource_manager, converter)\n",
    "    \n",
    "    with open(pdf_path, 'rb') as fh:\n",
    "        for page in PDFPage.get_pages(fh, \n",
    "                                      caching=True,\n",
    "                                      check_extractable=True):\n",
    "            page_interpreter.process_page(page)\n",
    "            \n",
    "        text = fake_file_handle.getvalue()\n",
    "    \n",
    "    # close open handles\n",
    "    converter.close()\n",
    "    fake_file_handle.close()\n",
    "    \n",
    "    if text:\n",
    "        return text\n",
    "    \n",
    "if __name__ == '__main__':\n",
    "    print(extract_text_from_pdf('resume.pdf'))"
   ]
  },
  {
   "cell_type": "code",
   "execution_count": null,
   "metadata": {},
   "outputs": [],
   "source": []
  }
 ],
 "metadata": {
  "kernelspec": {
   "display_name": "Python 3",
   "language": "python",
   "name": "python3"
  },
  "language_info": {
   "codemirror_mode": {
    "name": "ipython",
    "version": 3
   },
   "file_extension": ".py",
   "mimetype": "text/x-python",
   "name": "python",
   "nbconvert_exporter": "python",
   "pygments_lexer": "ipython3",
   "version": "3.6.8"
  }
 },
 "nbformat": 4,
 "nbformat_minor": 2
}
